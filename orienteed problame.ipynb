{
  "nbformat": 4,
  "nbformat_minor": 0,
  "metadata": {
    "colab": {
      "provenance": [],
      "authorship_tag": "ABX9TyPg49mlbo+TvrXYph+ayrwU",
      "include_colab_link": true
    },
    "kernelspec": {
      "name": "python3",
      "display_name": "Python 3"
    },
    "language_info": {
      "name": "python"
    }
  },
  "cells": [
    {
      "cell_type": "markdown",
      "metadata": {
        "id": "view-in-github",
        "colab_type": "text"
      },
      "source": [
        "<a href=\"https://colab.research.google.com/github/tazkiah07/web_/blob/main/orienteed%20problame.ipynb\" target=\"_parent\"><img src=\"https://colab.research.google.com/assets/colab-badge.svg\" alt=\"Open In Colab\"/></a>"
      ]
    },
    {
      "cell_type": "code",
      "source": [
        "!pip install docplex\n",
        "!pip install cplex\n",
        "!pip install qpsolvers"
      ],
      "metadata": {
        "colab": {
          "base_uri": "https://localhost:8080/"
        },
        "id": "PZfF4QRnNtY8",
        "outputId": "d5b6c31e-ce05-4fc7-a227-a5510081918d"
      },
      "execution_count": 5,
      "outputs": [
        {
          "output_type": "stream",
          "name": "stdout",
          "text": [
            "Requirement already satisfied: docplex in /usr/local/lib/python3.10/dist-packages (2.25.236)\n",
            "Requirement already satisfied: six in /usr/local/lib/python3.10/dist-packages (from docplex) (1.16.0)\n",
            "Requirement already satisfied: cplex in /usr/local/lib/python3.10/dist-packages (22.1.1.0)\n",
            "Requirement already satisfied: qpsolvers in /usr/local/lib/python3.10/dist-packages (4.2.0)\n",
            "Requirement already satisfied: daqp>=0.5.1 in /usr/local/lib/python3.10/dist-packages (from qpsolvers) (0.5.1)\n",
            "Requirement already satisfied: ecos>=2.0.8 in /usr/local/lib/python3.10/dist-packages (from qpsolvers) (2.0.12)\n",
            "Requirement already satisfied: numpy>=1.15.4 in /usr/local/lib/python3.10/dist-packages (from qpsolvers) (1.23.5)\n",
            "Requirement already satisfied: osqp>=0.6.2 in /usr/local/lib/python3.10/dist-packages (from qpsolvers) (0.6.2.post8)\n",
            "Requirement already satisfied: scipy>=1.2.0 in /usr/local/lib/python3.10/dist-packages (from qpsolvers) (1.11.4)\n",
            "Requirement already satisfied: scs>=3.2.0 in /usr/local/lib/python3.10/dist-packages (from qpsolvers) (3.2.4.post1)\n",
            "Requirement already satisfied: qdldl in /usr/local/lib/python3.10/dist-packages (from osqp>=0.6.2->qpsolvers) (0.1.7.post0)\n"
          ]
        }
      ]
    },
    {
      "cell_type": "code",
      "source": [
        "import numpy as np\n",
        "from qpsolvers import solve_qp\n",
        "import cplex\n",
        "import docplex\n",
        "from docplex.mp.model import Model"
      ],
      "metadata": {
        "id": "aMyj4HuJN6fp"
      },
      "execution_count": 6,
      "outputs": []
    },
    {
      "cell_type": "code",
      "source": [
        "num_points = 10\n",
        "depot = 1\n",
        "cost_limit = 300000\n",
        "\n",
        "# Jarak atau biaya perjalanan dari titik i ke titik j (dalam contoh ini diisi dengan angka random)\n",
        "cost_matrix = [\n",
        "    [0,70000,70000,65000,65000,75000,230000,65000,75000,85000],\n",
        "    [70000,0,22500,12000,4250,17500,83000,6500,17000,21000],\n",
        "    [70000,20500,0,14000,18000,3000,113000,15000,60000,17500],\n",
        "    [65000,12000,14000,0,8000,16000,94000,4500,16500,25500],\n",
        "    [65000,4250,18000,8000,0,18500,91500,3750,18500,25500],\n",
        "    [75000,17500,3000,16000,18500,0,112000,15000,4000,16500],\n",
        "    [23000,83000,113000,94000,91500,112000,0,90000,105000,105000],\n",
        "    [65000,6500,15000,4500,3750,15000,90000,0,13500,21000],\n",
        "    [75000,17000,6000,16500,18500,4000,105000,13500,0,13500],\n",
        "    [85000,21000,17500,25500,25500,16500,105000,21000,13500,0]\n",
        "]\n",
        "\n",
        "# Poin minat wisata untuk setiap titik\n",
        "poi_values = [0, 4.5, 4.0, 4.5, 4.6, 4.6, 4.5, 4.7, 4.8, 4.7]\n",
        "\n",
        "# Inisialisasi model\n",
        "model = Model(name='Orienteering')\n",
        "\n",
        "# Variabel keputusan\n",
        "x = {(i, j): model.binary_var(name='x_{0}_{1}'.format(i, j)) for i in range(num_points) for j in range(num_points)}\n",
        "y = {i: model.binary_var(name='y_{0}'.format(i)) for i in range(num_points)}\n",
        "\n",
        "# Fungsi tujuan: maksimalkan poin minat wisata\n",
        "model.maximize(model.sum(poi_values[i] * y[i] for i in range(num_points)))\n",
        "\n",
        "# Kendala: setiap titik harus dikunjungi tepat satu kali\n",
        "for i in range(num_points):\n",
        "    model.add_constraint(model.sum(x[i, j] for j in range(num_points) if j != i)== 1, ctname='visit_once_outgoing_{0}'.format(i))\n",
        "    model.add_constraint(model.sum(x[j, i] for j in range(num_points) if j != i)== 1, ctname='visit_once_incoming_{0}'.format(i))\n",
        "\n",
        "# Kendala: total biaya perjalanan tidak boleh melebihi cost_limit\n",
        "model.add_constraint(model.sum(cost_matrix[i][j] * x[i, j] for i in range(num_points) for j in range(num_points)) <= cost_limit, ctname='cost_limit')\n",
        "\n",
        "# Kendala: hubungan antara variabel x_{ij} dan y_i\n",
        "for i in range(num_points):\n",
        "    for j in range(1, num_points):\n",
        "        model.add_constraint(y[j] >= y[i] + x[i, j] - 1, ctname='visit_order_{0}_{1}'.format(i, j))\n",
        "\n",
        "# Solve\n",
        "solution=model.solve()\n",
        "\n",
        "# Output solusi\n",
        "print(solution)\n",
        "print(\"Objective Value:\", model.objective_value)\n",
        "print(\"\\nVisited Points:\")\n",
        "for i in range(num_points):\n",
        "    if model.solution.get_value(y[i]) > 0.5:\n",
        "        print(\"Point\", i, \"- Value:\",poi_values[i])"
      ],
      "metadata": {
        "colab": {
          "base_uri": "https://localhost:8080/"
        },
        "id": "atZghr8LN7t-",
        "outputId": "1a919c10-4352-4ed8-c1cd-ac319d8cb553"
      },
      "execution_count": 11,
      "outputs": [
        {
          "output_type": "stream",
          "name": "stdout",
          "text": [
            "solution for: Orienteering\n",
            "objective: 40.9\n",
            "status: OPTIMAL_SOLUTION(2)\n",
            "x_0_2=1\n",
            "x_1_3=1\n",
            "x_2_7=1\n",
            "x_3_5=1\n",
            "x_4_1=1\n",
            "x_5_6=1\n",
            "x_6_0=1\n",
            "x_7_4=1\n",
            "x_8_9=1\n",
            "x_9_8=1\n",
            "y_1=1\n",
            "y_2=1\n",
            "y_3=1\n",
            "y_4=1\n",
            "y_5=1\n",
            "y_6=1\n",
            "y_7=1\n",
            "y_8=1\n",
            "y_9=1\n",
            "\n",
            "Objective Value: 40.900000000000006\n",
            "\n",
            "Visited Points:\n",
            "Point 1 - Value: 4.5\n",
            "Point 2 - Value: 4.0\n",
            "Point 3 - Value: 4.5\n",
            "Point 4 - Value: 4.6\n",
            "Point 5 - Value: 4.6\n",
            "Point 6 - Value: 4.5\n",
            "Point 7 - Value: 4.7\n",
            "Point 8 - Value: 4.8\n",
            "Point 9 - Value: 4.7\n"
          ]
        }
      ]
    }
  ]
}